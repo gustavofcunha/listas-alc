{
 "cells": [
  {
   "cell_type": "markdown",
   "id": "settled-diversity",
   "metadata": {
    "id": "settled-diversity"
   },
   "source": [
    "# Exercício de Programação 4\n",
    "\n",
    "<font color=\"red\">**Prazo de submissão: 23:55 do dia 06.08.2021** </font>\n",
    "\n",
    "2021.1 Álgebra Linear Computacional - DCC - UFMG\n",
    "\n",
    "Erickson - Fabricio\n",
    "\n",
    "Instruções:\n",
    "* Antes de submeter suas soluções, certifique-se de que tudo roda como esperado. Primeiro, **reinicie o kernel** no menu, selecione Kernel$\\rightarrow$Restart e então execute **todas as células** (no menu, Cell$\\rightarrow$Run All)\n",
    "* Apenas o arquivo .ipynb deve ser submetido. Ele não deve ser compactado.\n",
    "* Não deixe de preencher seu nome e número de matrícula na célula a seguir"
   ]
  },
  {
   "cell_type": "markdown",
   "id": "rational-architecture",
   "metadata": {
    "id": "rational-architecture"
   },
   "source": [
    "**Nome do aluno:** Gustavo Freitas Cunha\n",
    "\n",
    "**Matricula:** 2020054498"
   ]
  },
  {
   "cell_type": "markdown",
   "id": "committed-lecture",
   "metadata": {
    "id": "committed-lecture"
   },
   "source": [
    "## Introdução\n",
    "Esse EP será dividido em 3 partes:\n",
    "1. PCA\n",
    "2. Regressão Linear Simples\n",
    "3. Regressão Múltipla\n",
    "\n",
    "Os conceitos cobrados aqui são discutidos nas aulas que abrangem o conteúdo de cada parte e elas devem ser a principal fonte de consulta para suas soluções.\n",
    "\n",
    "Para as três partes, iremos trabalhar com um dataset (já disponível aqui no código) que contém os preços de imóveis do [Condado de King](https://pt.wikipedia.org/wiki/Condado_de_King_(Washington)) (Washington, EUA). O objetivo desse exercício é utilizar das técnicas aprendidas em aula para prever os preços imobiliários do condado através das características dos imóveis."
   ]
  },
  {
   "cell_type": "code",
   "execution_count": 1,
   "id": "limiting-sterling",
   "metadata": {
    "id": "limiting-sterling"
   },
   "outputs": [],
   "source": [
    "# ATENÇÃO: Não editar esta célula\n",
    "\n",
    "############### Write code below ##################\n",
    "import numpy as np\n",
    "data = np.array([[2.2190e+05, 3.0000e+00, 1.0000e+00, 1.1800e+03, 5.6500e+03,\n",
    "        1.0000e+00, 3.0000e+00, 7.0000e+00, 1.1800e+03, 1.9550e+03,\n",
    "        1.3400e+03, 5.6500e+03],\n",
    "       [5.3800e+05, 3.0000e+00, 2.2500e+00, 2.5700e+03, 7.2420e+03,\n",
    "        2.0000e+00, 3.0000e+00, 7.0000e+00, 2.1700e+03, 1.9510e+03,\n",
    "        1.6900e+03, 7.6390e+03],\n",
    "       [1.8000e+05, 2.0000e+00, 1.0000e+00, 7.7000e+02, 1.0000e+04,\n",
    "        1.0000e+00, 3.0000e+00, 6.0000e+00, 7.7000e+02, 1.9330e+03,\n",
    "        2.7200e+03, 8.0620e+03],\n",
    "       [6.0400e+05, 4.0000e+00, 3.0000e+00, 1.9600e+03, 5.0000e+03,\n",
    "        1.0000e+00, 5.0000e+00, 7.0000e+00, 1.0500e+03, 1.9650e+03,\n",
    "        1.3600e+03, 5.0000e+03],\n",
    "       [5.1000e+05, 3.0000e+00, 2.0000e+00, 1.6800e+03, 8.0800e+03,\n",
    "        1.0000e+00, 3.0000e+00, 8.0000e+00, 1.6800e+03, 1.9870e+03,\n",
    "        1.8000e+03, 7.5030e+03],\n",
    "       [2.5750e+05, 3.0000e+00, 2.2500e+00, 1.7150e+03, 6.8190e+03,\n",
    "        2.0000e+00, 3.0000e+00, 7.0000e+00, 1.7150e+03, 1.9950e+03,\n",
    "        2.2380e+03, 6.8190e+03],\n",
    "       [2.9185e+05, 3.0000e+00, 1.5000e+00, 1.0600e+03, 9.7110e+03,\n",
    "        1.0000e+00, 3.0000e+00, 7.0000e+00, 1.0600e+03, 1.9630e+03,\n",
    "        1.6500e+03, 9.7110e+03],\n",
    "       [2.2950e+05, 3.0000e+00, 1.0000e+00, 1.7800e+03, 7.4700e+03,\n",
    "        1.0000e+00, 3.0000e+00, 7.0000e+00, 1.0500e+03, 1.9600e+03,\n",
    "        1.7800e+03, 8.1130e+03],\n",
    "       [3.2300e+05, 3.0000e+00, 2.5000e+00, 1.8900e+03, 6.5600e+03,\n",
    "        2.0000e+00, 3.0000e+00, 7.0000e+00, 1.8900e+03, 2.0030e+03,\n",
    "        2.3900e+03, 7.5700e+03],\n",
    "       [6.6250e+05, 3.0000e+00, 2.5000e+00, 3.5600e+03, 9.7960e+03,\n",
    "        1.0000e+00, 3.0000e+00, 8.0000e+00, 1.8600e+03, 1.9650e+03,\n",
    "        2.2100e+03, 8.9250e+03],\n",
    "       [4.6800e+05, 2.0000e+00, 1.0000e+00, 1.1600e+03, 6.0000e+03,\n",
    "        1.0000e+00, 4.0000e+00, 7.0000e+00, 8.6000e+02, 1.9420e+03,\n",
    "        1.3300e+03, 6.0000e+03],\n",
    "       [3.1000e+05, 3.0000e+00, 1.0000e+00, 1.4300e+03, 1.9901e+04,\n",
    "        1.5000e+00, 4.0000e+00, 7.0000e+00, 1.4300e+03, 1.9270e+03,\n",
    "        1.7800e+03, 1.2697e+04],\n",
    "       [4.0000e+05, 3.0000e+00, 1.7500e+00, 1.3700e+03, 9.6800e+03,\n",
    "        1.0000e+00, 4.0000e+00, 7.0000e+00, 1.3700e+03, 1.9770e+03,\n",
    "        1.3700e+03, 1.0208e+04],\n",
    "       [5.3000e+05, 5.0000e+00, 2.0000e+00, 1.8100e+03, 4.8500e+03,\n",
    "        1.5000e+00, 3.0000e+00, 7.0000e+00, 1.8100e+03, 1.9000e+03,\n",
    "        1.3600e+03, 4.8500e+03],\n",
    "       [6.5000e+05, 4.0000e+00, 3.0000e+00, 2.9500e+03, 5.0000e+03,\n",
    "        2.0000e+00, 3.0000e+00, 9.0000e+00, 1.9800e+03, 1.9790e+03,\n",
    "        2.1400e+03, 4.0000e+03],\n",
    "       [3.9500e+05, 3.0000e+00, 2.0000e+00, 1.8900e+03, 1.4040e+04,\n",
    "        2.0000e+00, 3.0000e+00, 7.0000e+00, 1.8900e+03, 1.9940e+03,\n",
    "        1.8900e+03, 1.4018e+04],\n",
    "       [4.8500e+05, 4.0000e+00, 1.0000e+00, 1.6000e+03, 4.3000e+03,\n",
    "        1.5000e+00, 4.0000e+00, 7.0000e+00, 1.6000e+03, 1.9160e+03,\n",
    "        1.6100e+03, 4.3000e+03],\n",
    "       [1.8900e+05, 2.0000e+00, 1.0000e+00, 1.2000e+03, 9.8500e+03,\n",
    "        1.0000e+00, 4.0000e+00, 7.0000e+00, 1.2000e+03, 1.9210e+03,\n",
    "        1.0600e+03, 5.0950e+03],\n",
    "       [2.3000e+05, 3.0000e+00, 1.0000e+00, 1.2500e+03, 9.7740e+03,\n",
    "        1.0000e+00, 4.0000e+00, 7.0000e+00, 1.2500e+03, 1.9690e+03,\n",
    "        1.2800e+03, 8.8500e+03],\n",
    "       [3.8500e+05, 4.0000e+00, 1.7500e+00, 1.6200e+03, 4.9800e+03,\n",
    "        1.0000e+00, 4.0000e+00, 7.0000e+00, 8.6000e+02, 1.9470e+03,\n",
    "        1.4000e+03, 4.9800e+03],\n",
    "       [2.8500e+05, 5.0000e+00, 2.5000e+00, 2.2700e+03, 6.3000e+03,\n",
    "        2.0000e+00, 3.0000e+00, 8.0000e+00, 2.2700e+03, 1.9950e+03,\n",
    "        2.2400e+03, 7.0050e+03],\n",
    "       [2.5270e+05, 2.0000e+00, 1.5000e+00, 1.0700e+03, 9.6430e+03,\n",
    "        1.0000e+00, 3.0000e+00, 7.0000e+00, 1.0700e+03, 1.9850e+03,\n",
    "        1.2200e+03, 8.3860e+03],\n",
    "       [3.2900e+05, 3.0000e+00, 2.2500e+00, 2.4500e+03, 6.5000e+03,\n",
    "        2.0000e+00, 4.0000e+00, 8.0000e+00, 2.4500e+03, 1.9850e+03,\n",
    "        2.2000e+03, 6.8650e+03],\n",
    "       [2.3300e+05, 3.0000e+00, 2.0000e+00, 1.7100e+03, 4.6970e+03,\n",
    "        1.5000e+00, 5.0000e+00, 6.0000e+00, 1.7100e+03, 1.9410e+03,\n",
    "        1.0300e+03, 4.7050e+03],\n",
    "       [6.6700e+05, 3.0000e+00, 1.0000e+00, 1.4000e+03, 1.5810e+03,\n",
    "        1.5000e+00, 5.0000e+00, 8.0000e+00, 1.4000e+03, 1.9090e+03,\n",
    "        1.8600e+03, 3.8610e+03],\n",
    "       [4.3800e+05, 3.0000e+00, 1.7500e+00, 1.5200e+03, 6.3800e+03,\n",
    "        1.0000e+00, 3.0000e+00, 7.0000e+00, 7.9000e+02, 1.9480e+03,\n",
    "        1.5200e+03, 6.2350e+03]])"
   ]
  },
  {
   "cell_type": "code",
   "execution_count": 2,
   "id": "lesbian-intent",
   "metadata": {
    "id": "lesbian-intent"
   },
   "outputs": [],
   "source": [
    "import matplotlib.pyplot as plt\n",
    "import numpy as np"
   ]
  },
  {
   "cell_type": "markdown",
   "id": "computational-birth",
   "metadata": {
    "id": "computational-birth"
   },
   "source": [
    "### Questão 1 - PCA\n"
   ]
  },
  {
   "cell_type": "markdown",
   "id": "itffvRYMizM_",
   "metadata": {
    "id": "itffvRYMizM_"
   },
   "source": [
    "Nessa primeira parte, vamos implementar o algoritmo do PCA como foi descrito nas aulas. O primeiro passo é obter a matriz $X$ da mesma forma como é usado na aula, em que cada linha linha é um atributo (variável), e cada coluna é uma instância de dados. \n",
    "\n",
    "**1.1.1** Como a matriz **data** definida acima está com os valores na forma transposta a essa (instâncias nas linhas e atributos nas colunas), então podemos obter **X** a partir de **data** usando o seu transposto."
   ]
  },
  {
   "cell_type": "code",
   "execution_count": 3,
   "id": "4ckXBj9JhBlM",
   "metadata": {
    "colab": {
     "base_uri": "https://localhost:8080/"
    },
    "id": "4ckXBj9JhBlM",
    "outputId": "4b3db4cc-032a-4846-f653-b6b74c2345fc"
   },
   "outputs": [
    {
     "name": "stdout",
     "output_type": "stream",
     "text": [
      "(12, 26)\n",
      "[[2.2190e+05 5.3800e+05 1.8000e+05 6.0400e+05 5.1000e+05 2.5750e+05\n",
      "  2.9185e+05 2.2950e+05 3.2300e+05 6.6250e+05 4.6800e+05 3.1000e+05\n",
      "  4.0000e+05 5.3000e+05 6.5000e+05 3.9500e+05 4.8500e+05 1.8900e+05\n",
      "  2.3000e+05 3.8500e+05 2.8500e+05 2.5270e+05 3.2900e+05 2.3300e+05\n",
      "  6.6700e+05 4.3800e+05]\n",
      " [3.0000e+00 3.0000e+00 2.0000e+00 4.0000e+00 3.0000e+00 3.0000e+00\n",
      "  3.0000e+00 3.0000e+00 3.0000e+00 3.0000e+00 2.0000e+00 3.0000e+00\n",
      "  3.0000e+00 5.0000e+00 4.0000e+00 3.0000e+00 4.0000e+00 2.0000e+00\n",
      "  3.0000e+00 4.0000e+00 5.0000e+00 2.0000e+00 3.0000e+00 3.0000e+00\n",
      "  3.0000e+00 3.0000e+00]\n",
      " [1.0000e+00 2.2500e+00 1.0000e+00 3.0000e+00 2.0000e+00 2.2500e+00\n",
      "  1.5000e+00 1.0000e+00 2.5000e+00 2.5000e+00 1.0000e+00 1.0000e+00\n",
      "  1.7500e+00 2.0000e+00 3.0000e+00 2.0000e+00 1.0000e+00 1.0000e+00\n",
      "  1.0000e+00 1.7500e+00 2.5000e+00 1.5000e+00 2.2500e+00 2.0000e+00\n",
      "  1.0000e+00 1.7500e+00]\n",
      " [1.1800e+03 2.5700e+03 7.7000e+02 1.9600e+03 1.6800e+03 1.7150e+03\n",
      "  1.0600e+03 1.7800e+03 1.8900e+03 3.5600e+03 1.1600e+03 1.4300e+03\n",
      "  1.3700e+03 1.8100e+03 2.9500e+03 1.8900e+03 1.6000e+03 1.2000e+03\n",
      "  1.2500e+03 1.6200e+03 2.2700e+03 1.0700e+03 2.4500e+03 1.7100e+03\n",
      "  1.4000e+03 1.5200e+03]\n",
      " [5.6500e+03 7.2420e+03 1.0000e+04 5.0000e+03 8.0800e+03 6.8190e+03\n",
      "  9.7110e+03 7.4700e+03 6.5600e+03 9.7960e+03 6.0000e+03 1.9901e+04\n",
      "  9.6800e+03 4.8500e+03 5.0000e+03 1.4040e+04 4.3000e+03 9.8500e+03\n",
      "  9.7740e+03 4.9800e+03 6.3000e+03 9.6430e+03 6.5000e+03 4.6970e+03\n",
      "  1.5810e+03 6.3800e+03]\n",
      " [1.0000e+00 2.0000e+00 1.0000e+00 1.0000e+00 1.0000e+00 2.0000e+00\n",
      "  1.0000e+00 1.0000e+00 2.0000e+00 1.0000e+00 1.0000e+00 1.5000e+00\n",
      "  1.0000e+00 1.5000e+00 2.0000e+00 2.0000e+00 1.5000e+00 1.0000e+00\n",
      "  1.0000e+00 1.0000e+00 2.0000e+00 1.0000e+00 2.0000e+00 1.5000e+00\n",
      "  1.5000e+00 1.0000e+00]\n",
      " [3.0000e+00 3.0000e+00 3.0000e+00 5.0000e+00 3.0000e+00 3.0000e+00\n",
      "  3.0000e+00 3.0000e+00 3.0000e+00 3.0000e+00 4.0000e+00 4.0000e+00\n",
      "  4.0000e+00 3.0000e+00 3.0000e+00 3.0000e+00 4.0000e+00 4.0000e+00\n",
      "  4.0000e+00 4.0000e+00 3.0000e+00 3.0000e+00 4.0000e+00 5.0000e+00\n",
      "  5.0000e+00 3.0000e+00]\n",
      " [7.0000e+00 7.0000e+00 6.0000e+00 7.0000e+00 8.0000e+00 7.0000e+00\n",
      "  7.0000e+00 7.0000e+00 7.0000e+00 8.0000e+00 7.0000e+00 7.0000e+00\n",
      "  7.0000e+00 7.0000e+00 9.0000e+00 7.0000e+00 7.0000e+00 7.0000e+00\n",
      "  7.0000e+00 7.0000e+00 8.0000e+00 7.0000e+00 8.0000e+00 6.0000e+00\n",
      "  8.0000e+00 7.0000e+00]\n",
      " [1.1800e+03 2.1700e+03 7.7000e+02 1.0500e+03 1.6800e+03 1.7150e+03\n",
      "  1.0600e+03 1.0500e+03 1.8900e+03 1.8600e+03 8.6000e+02 1.4300e+03\n",
      "  1.3700e+03 1.8100e+03 1.9800e+03 1.8900e+03 1.6000e+03 1.2000e+03\n",
      "  1.2500e+03 8.6000e+02 2.2700e+03 1.0700e+03 2.4500e+03 1.7100e+03\n",
      "  1.4000e+03 7.9000e+02]\n",
      " [1.9550e+03 1.9510e+03 1.9330e+03 1.9650e+03 1.9870e+03 1.9950e+03\n",
      "  1.9630e+03 1.9600e+03 2.0030e+03 1.9650e+03 1.9420e+03 1.9270e+03\n",
      "  1.9770e+03 1.9000e+03 1.9790e+03 1.9940e+03 1.9160e+03 1.9210e+03\n",
      "  1.9690e+03 1.9470e+03 1.9950e+03 1.9850e+03 1.9850e+03 1.9410e+03\n",
      "  1.9090e+03 1.9480e+03]\n",
      " [1.3400e+03 1.6900e+03 2.7200e+03 1.3600e+03 1.8000e+03 2.2380e+03\n",
      "  1.6500e+03 1.7800e+03 2.3900e+03 2.2100e+03 1.3300e+03 1.7800e+03\n",
      "  1.3700e+03 1.3600e+03 2.1400e+03 1.8900e+03 1.6100e+03 1.0600e+03\n",
      "  1.2800e+03 1.4000e+03 2.2400e+03 1.2200e+03 2.2000e+03 1.0300e+03\n",
      "  1.8600e+03 1.5200e+03]\n",
      " [5.6500e+03 7.6390e+03 8.0620e+03 5.0000e+03 7.5030e+03 6.8190e+03\n",
      "  9.7110e+03 8.1130e+03 7.5700e+03 8.9250e+03 6.0000e+03 1.2697e+04\n",
      "  1.0208e+04 4.8500e+03 4.0000e+03 1.4018e+04 4.3000e+03 5.0950e+03\n",
      "  8.8500e+03 4.9800e+03 7.0050e+03 8.3860e+03 6.8650e+03 4.7050e+03\n",
      "  3.8610e+03 6.2350e+03]]\n"
     ]
    }
   ],
   "source": [
    "# ATENÇÃO: Não editar esta célula\n",
    "X = data.T\n",
    "n, m = X.shape\n",
    "print(X.shape)\n",
    "print(X)"
   ]
  },
  {
   "cell_type": "markdown",
   "id": "p-8x7-bAla2h",
   "metadata": {
    "id": "p-8x7-bAla2h"
   },
   "source": [
    "O próximo passo agora é fazer a **z-normalização** como é descrito em [aula](https://youtu.be/hlaLh-chsyE?t=1415). Para isso, podemos seguir os 4 passos que são sugeridos em aula:\n",
    "\n",
    "1. Calcular a média $\\mu$ de cada atributo (linha) de **X**.\n",
    "1. Subtrair de cada valor de **X** a média da linha correspondente.\n",
    "1. Calcular a variância de cada linha de **X**.\n",
    "1. Dividir cada valor de **X** pelo desvio padrão (obtido a partir da variância) da linha correspondente."
   ]
  },
  {
   "cell_type": "markdown",
   "id": "h_ZBCsZLnmXk",
   "metadata": {
    "id": "h_ZBCsZLnmXk"
   },
   "source": [
    "**1.1.2** Então, primeiramente vamos calcular a média $\\mu$ das linhas de **X**:\n",
    "\n",
    "$$\\mu = \\frac{1}{m} \\sum_{i=1}^{m} \\textbf{x}^{(i)}$$\n",
    "\n",
    "Podemos fazer isso facilmente no `numpy`, considerando a média ao longo da dimensão dos atributos na matriz $X$. Para isso podemos usar [`np.mean`](https://numpy.org/doc/stable/reference/generated/numpy.mean.html), especificando o valor correto do parâmetro `axis`. Note que o resultado $\\mu$ é um vetor coluna de tamanho 12. Calcule esse vetor $\\mu$ a seguir e guarde o resultado em uma variável **mu**."
   ]
  },
  {
   "cell_type": "code",
   "execution_count": 4,
   "id": "Xba2RhWLlZuq",
   "metadata": {
    "id": "Xba2RhWLlZuq"
   },
   "outputs": [
    {
     "name": "stdout",
     "output_type": "stream",
     "text": [
      "(12,)\n",
      "(12, 26)\n",
      "[3.87113462e+05 3.15384615e+00 1.75000000e+00 1.72557692e+03\n",
      " 7.68476923e+03 1.36538462e+00 3.53846154e+00 7.19230769e+00\n",
      " 1.47557692e+03 1.95815385e+03 1.71030769e+03 7.19411538e+03]\n"
     ]
    }
   ],
   "source": [
    "# Insira seu código aqui\n",
    "mu = np.mean(X, axis=1)\n",
    "print(mu.shape)\n",
    "print(X.shape)\n",
    "print(mu)"
   ]
  },
  {
   "cell_type": "markdown",
   "id": "pV7TJX-Qn43E",
   "metadata": {
    "id": "pV7TJX-Qn43E"
   },
   "source": [
    "**1.1.3** Agora que calculamos $\\mu$ podemos centralizar os dados com essa média. Para isso, basta subtratir cada coluna de **X** (cada observação) por essa média:\n",
    "\n",
    "$$\\textbf{x}^{(i)} = \\textbf{x}^{(i)} - \\mu$$\n",
    "\n",
    " Isso pode ser feito através do uso de *broadcasting*, em que o cálculo pode ser feito apenas por uma operação. Calcule essa operação a seguir e salve a matriz resultante numa variável **X_mc**."
   ]
  },
  {
   "cell_type": "code",
   "execution_count": 5,
   "id": "tkziI-02n8Vk",
   "metadata": {
    "id": "tkziI-02n8Vk"
   },
   "outputs": [
    {
     "name": "stdout",
     "output_type": "stream",
     "text": [
      "(12, 26)\n",
      "[[-1.65213462e+05  1.50886538e+05 -2.07113462e+05  2.16886538e+05\n",
      "   1.22886538e+05 -1.29613462e+05 -9.52634615e+04 -1.57613462e+05\n",
      "  -6.41134615e+04  2.75386538e+05  8.08865385e+04 -7.71134615e+04\n",
      "   1.28865385e+04  1.42886538e+05  2.62886538e+05  7.88653846e+03\n",
      "   9.78865385e+04 -1.98113462e+05 -1.57113462e+05 -2.11346154e+03\n",
      "  -1.02113462e+05 -1.34413462e+05 -5.81134615e+04 -1.54113462e+05\n",
      "   2.79886538e+05  5.08865385e+04]\n",
      " [-1.53846154e-01 -1.53846154e-01 -1.15384615e+00  8.46153846e-01\n",
      "  -1.53846154e-01 -1.53846154e-01 -1.53846154e-01 -1.53846154e-01\n",
      "  -1.53846154e-01 -1.53846154e-01 -1.15384615e+00 -1.53846154e-01\n",
      "  -1.53846154e-01  1.84615385e+00  8.46153846e-01 -1.53846154e-01\n",
      "   8.46153846e-01 -1.15384615e+00 -1.53846154e-01  8.46153846e-01\n",
      "   1.84615385e+00 -1.15384615e+00 -1.53846154e-01 -1.53846154e-01\n",
      "  -1.53846154e-01 -1.53846154e-01]\n",
      " [-7.50000000e-01  5.00000000e-01 -7.50000000e-01  1.25000000e+00\n",
      "   2.50000000e-01  5.00000000e-01 -2.50000000e-01 -7.50000000e-01\n",
      "   7.50000000e-01  7.50000000e-01 -7.50000000e-01 -7.50000000e-01\n",
      "   0.00000000e+00  2.50000000e-01  1.25000000e+00  2.50000000e-01\n",
      "  -7.50000000e-01 -7.50000000e-01 -7.50000000e-01  0.00000000e+00\n",
      "   7.50000000e-01 -2.50000000e-01  5.00000000e-01  2.50000000e-01\n",
      "  -7.50000000e-01  0.00000000e+00]\n",
      " [-5.45576923e+02  8.44423077e+02 -9.55576923e+02  2.34423077e+02\n",
      "  -4.55769231e+01 -1.05769231e+01 -6.65576923e+02  5.44230769e+01\n",
      "   1.64423077e+02  1.83442308e+03 -5.65576923e+02 -2.95576923e+02\n",
      "  -3.55576923e+02  8.44230769e+01  1.22442308e+03  1.64423077e+02\n",
      "  -1.25576923e+02 -5.25576923e+02 -4.75576923e+02 -1.05576923e+02\n",
      "   5.44423077e+02 -6.55576923e+02  7.24423077e+02 -1.55769231e+01\n",
      "  -3.25576923e+02 -2.05576923e+02]\n",
      " [-2.03476923e+03 -4.42769231e+02  2.31523077e+03 -2.68476923e+03\n",
      "   3.95230769e+02 -8.65769231e+02  2.02623077e+03 -2.14769231e+02\n",
      "  -1.12476923e+03  2.11123077e+03 -1.68476923e+03  1.22162308e+04\n",
      "   1.99523077e+03 -2.83476923e+03 -2.68476923e+03  6.35523077e+03\n",
      "  -3.38476923e+03  2.16523077e+03  2.08923077e+03 -2.70476923e+03\n",
      "  -1.38476923e+03  1.95823077e+03 -1.18476923e+03 -2.98776923e+03\n",
      "  -6.10376923e+03 -1.30476923e+03]\n",
      " [-3.65384615e-01  6.34615385e-01 -3.65384615e-01 -3.65384615e-01\n",
      "  -3.65384615e-01  6.34615385e-01 -3.65384615e-01 -3.65384615e-01\n",
      "   6.34615385e-01 -3.65384615e-01 -3.65384615e-01  1.34615385e-01\n",
      "  -3.65384615e-01  1.34615385e-01  6.34615385e-01  6.34615385e-01\n",
      "   1.34615385e-01 -3.65384615e-01 -3.65384615e-01 -3.65384615e-01\n",
      "   6.34615385e-01 -3.65384615e-01  6.34615385e-01  1.34615385e-01\n",
      "   1.34615385e-01 -3.65384615e-01]\n",
      " [-5.38461538e-01 -5.38461538e-01 -5.38461538e-01  1.46153846e+00\n",
      "  -5.38461538e-01 -5.38461538e-01 -5.38461538e-01 -5.38461538e-01\n",
      "  -5.38461538e-01 -5.38461538e-01  4.61538462e-01  4.61538462e-01\n",
      "   4.61538462e-01 -5.38461538e-01 -5.38461538e-01 -5.38461538e-01\n",
      "   4.61538462e-01  4.61538462e-01  4.61538462e-01  4.61538462e-01\n",
      "  -5.38461538e-01 -5.38461538e-01  4.61538462e-01  1.46153846e+00\n",
      "   1.46153846e+00 -5.38461538e-01]\n",
      " [-1.92307692e-01 -1.92307692e-01 -1.19230769e+00 -1.92307692e-01\n",
      "   8.07692308e-01 -1.92307692e-01 -1.92307692e-01 -1.92307692e-01\n",
      "  -1.92307692e-01  8.07692308e-01 -1.92307692e-01 -1.92307692e-01\n",
      "  -1.92307692e-01 -1.92307692e-01  1.80769231e+00 -1.92307692e-01\n",
      "  -1.92307692e-01 -1.92307692e-01 -1.92307692e-01 -1.92307692e-01\n",
      "   8.07692308e-01 -1.92307692e-01  8.07692308e-01 -1.19230769e+00\n",
      "   8.07692308e-01 -1.92307692e-01]\n",
      " [-2.95576923e+02  6.94423077e+02 -7.05576923e+02 -4.25576923e+02\n",
      "   2.04423077e+02  2.39423077e+02 -4.15576923e+02 -4.25576923e+02\n",
      "   4.14423077e+02  3.84423077e+02 -6.15576923e+02 -4.55769231e+01\n",
      "  -1.05576923e+02  3.34423077e+02  5.04423077e+02  4.14423077e+02\n",
      "   1.24423077e+02 -2.75576923e+02 -2.25576923e+02 -6.15576923e+02\n",
      "   7.94423077e+02 -4.05576923e+02  9.74423077e+02  2.34423077e+02\n",
      "  -7.55769231e+01 -6.85576923e+02]\n",
      " [-3.15384615e+00 -7.15384615e+00 -2.51538462e+01  6.84615385e+00\n",
      "   2.88461538e+01  3.68461538e+01  4.84615385e+00  1.84615385e+00\n",
      "   4.48461538e+01  6.84615385e+00 -1.61538462e+01 -3.11538462e+01\n",
      "   1.88461538e+01 -5.81538462e+01  2.08461538e+01  3.58461538e+01\n",
      "  -4.21538462e+01 -3.71538462e+01  1.08461538e+01 -1.11538462e+01\n",
      "   3.68461538e+01  2.68461538e+01  2.68461538e+01 -1.71538462e+01\n",
      "  -4.91538462e+01 -1.01538462e+01]\n",
      " [-3.70307692e+02 -2.03076923e+01  1.00969231e+03 -3.50307692e+02\n",
      "   8.96923077e+01  5.27692308e+02 -6.03076923e+01  6.96923077e+01\n",
      "   6.79692308e+02  4.99692308e+02 -3.80307692e+02  6.96923077e+01\n",
      "  -3.40307692e+02 -3.50307692e+02  4.29692308e+02  1.79692308e+02\n",
      "  -1.00307692e+02 -6.50307692e+02 -4.30307692e+02 -3.10307692e+02\n",
      "   5.29692308e+02 -4.90307692e+02  4.89692308e+02 -6.80307692e+02\n",
      "   1.49692308e+02 -1.90307692e+02]\n",
      " [-1.54411538e+03  4.44884615e+02  8.67884615e+02 -2.19411538e+03\n",
      "   3.08884615e+02 -3.75115385e+02  2.51688462e+03  9.18884615e+02\n",
      "   3.75884615e+02  1.73088462e+03 -1.19411538e+03  5.50288462e+03\n",
      "   3.01388462e+03 -2.34411538e+03 -3.19411538e+03  6.82388462e+03\n",
      "  -2.89411538e+03 -2.09911538e+03  1.65588462e+03 -2.21411538e+03\n",
      "  -1.89115385e+02  1.19188462e+03 -3.29115385e+02 -2.48911538e+03\n",
      "  -3.33311538e+03 -9.59115385e+02]]\n"
     ]
    }
   ],
   "source": [
    "# Insira seu código aqui\n",
    "mu.reshape((12,1))\n",
    "X_mc = X.copy()\n",
    "for i in range(26):\n",
    "    X_mc[:,i]=X_mc[:,i]-mu\n",
    "print(X_mc.shape)\n",
    "print(X_mc)"
   ]
  },
  {
   "cell_type": "markdown",
   "id": "w-Aj6W_upliO",
   "metadata": {
    "id": "w-Aj6W_upliO"
   },
   "source": [
    "**1.1.4** O próximo passo então é o cálculo da variância de cada linha (variável) de **X**. Como os valores já estão centralizados na média, então para isso basta calcular o quadrado de cada valor na matriz e somar os valores ao longo das linhas, e depois dividir por $m - 1$:\n",
    "\n",
    "$$\\sigma_j^2 = \\frac{1}{m - 1} \\sum_{i=1}^{m} ( \\textbf{x}_j^{(i)} )^2$$\n",
    "\n",
    "Assim como a média $\\mu$, o resultado dessa operação é um vetor coluna $\\sigma^2$, de tamanho 12. Calcule esse vetor a seguir e salve na variável **var**."
   ]
  },
  {
   "cell_type": "code",
   "execution_count": 6,
   "id": "BiiM1QzRrEbk",
   "metadata": {
    "id": "BiiM1QzRrEbk"
   },
   "outputs": [
    {
     "name": "stdout",
     "output_type": "stream",
     "text": [
      "(12, 1)\n",
      "[[2.39230175e+10]\n",
      " [6.15384615e-01]\n",
      " [4.40000000e-01]\n",
      " [3.92596654e+05]\n",
      " [1.28895891e+07]\n",
      " [1.91153846e-01]\n",
      " [4.98461538e-01]\n",
      " [4.01538462e-01]\n",
      " [2.29928654e+05]\n",
      " [8.28615385e+02]\n",
      " [1.95519262e+05]\n",
      " [6.47888755e+06]]\n"
     ]
    }
   ],
   "source": [
    "# Insira seu código aqui\n",
    "var=np.zeros((12,1))\n",
    "X_mc2=X_mc.copy()\n",
    "for i in range(12):\n",
    "    for j in range(26):\n",
    "        X_mc2[i][j]=X_mc2[i][j]**2\n",
    "for i in range(12):\n",
    "    var[i]=var[i]+np.sum(X_mc2[i,:],axis=0)\n",
    "var=var*(1/(m-1))\n",
    "print(var.shape)\n",
    "print(var)"
   ]
  },
  {
   "cell_type": "markdown",
   "id": "axVI89qprke9",
   "metadata": {
    "id": "axVI89qprke9"
   },
   "source": [
    "**1.1.5** Agora que possuímos as variâncias de cada linha, podemos dividir cada observação de **X** pelo desvio padrão:\n",
    "\n",
    "$$x_j^{(i)} = x_j^{(i)} / \\sigma_j$$\n",
    "\n",
    "Primeiramente precisamos obter o vetor com os desvios padrão de cada linha $\\sigma$, que pode ser obtido simplesmente tomando a raíz quadrada de cada valor no vetor de variâncias $\\sigma^2$. Para isso podemos usar o [`numpy.sqrt`](https://numpy.org/doc/stable/reference/generated/numpy.sqrt.html). Depois disso, usamos o desvio padrão para dividir cada coluna de **X**. Note que assim como fizemos com a média, essa pode ser feita por *broadcasting* com apenas uma operação. Faça essa operação a seguir, salvando o vetor de desvios padrão numa variável **desvio_pad** e a matriz resultante da normalização em uma variável **Xz**."
   ]
  },
  {
   "cell_type": "code",
   "execution_count": 7,
   "id": "6THAUqKrtwqQ",
   "metadata": {
    "id": "6THAUqKrtwqQ"
   },
   "outputs": [
    {
     "name": "stdout",
     "output_type": "stream",
     "text": [
      "[[1.54670674e+05]\n",
      " [7.84464541e-01]\n",
      " [6.63324958e-01]\n",
      " [6.26575338e+02]\n",
      " [3.59020738e+03]\n",
      " [4.37211443e-01]\n",
      " [7.06018086e-01]\n",
      " [6.33670625e-01]\n",
      " [4.79508763e+02]\n",
      " [2.87856802e+01]\n",
      " [4.42175600e+02]\n",
      " [2.54536590e+03]]\n",
      "(12, 26)\n",
      "[[-1.06816281  0.97553424 -1.33906096  1.40224732  0.79450445 -0.83799636\n",
      "  -0.61591159 -1.01902615 -0.41451595  1.78047028  0.52295976 -0.4985655\n",
      "   0.08331598  0.92381144  1.69965341  0.05098923  0.6328707  -1.28087281\n",
      "  -1.01579347 -0.01366427 -0.66019924 -0.86903003 -0.37572385 -0.99639742\n",
      "   1.80956435  0.32899927]\n",
      " [-0.19611614 -0.19611614 -1.47087101  1.07863874 -0.19611614 -0.19611614\n",
      "  -0.19611614 -0.19611614 -0.19611614 -0.19611614 -1.47087101 -0.19611614\n",
      "  -0.19611614  2.35339362  1.07863874 -0.19611614  1.07863874 -1.47087101\n",
      "  -0.19611614  1.07863874  2.35339362 -1.47087101 -0.19611614 -0.19611614\n",
      "  -0.19611614 -0.19611614]\n",
      " [-1.13066754  0.75377836 -1.13066754  1.8844459   0.37688918  0.75377836\n",
      "  -0.37688918 -1.13066754  1.13066754  1.13066754 -1.13066754 -1.13066754\n",
      "   0.          0.37688918  1.8844459   0.37688918 -1.13066754 -1.13066754\n",
      "  -1.13066754  0.          1.13066754 -0.37688918  0.75377836  0.37688918\n",
      "  -1.13066754  0.        ]\n",
      " [-0.87072837  1.34768004 -1.52507905  0.3741339  -0.07273973 -0.01688053\n",
      "  -1.06224564  0.08685799  0.26241549  2.92769754 -0.90264792 -0.47173405\n",
      "  -0.56749269  0.13473731  1.95415141  0.26241549 -0.20041792 -0.83880883\n",
      "  -0.75900996 -0.16849837  0.86888686 -1.04628587  1.15616277 -0.02486042\n",
      "  -0.51961337 -0.3280961 ]\n",
      " [-0.56675535 -0.12332692  0.64487383 -0.74780338  0.11008578 -0.24114742\n",
      "   0.56437708 -0.05982084 -0.31328809  0.5880526  -0.46926794  3.40265323\n",
      "   0.55574248 -0.7895837  -0.74780338  1.77015701 -0.94277819  0.60309351\n",
      "   0.58192482 -0.75337409 -0.38570731  0.54543667 -0.33000022 -0.83219962\n",
      "  -1.70011606 -0.36342447]\n",
      " [-0.83571604  1.4515068  -0.83571604 -0.83571604 -0.83571604  1.4515068\n",
      "  -0.83571604 -0.83571604  1.4515068  -0.83571604 -0.83571604  0.30789538\n",
      "  -0.83571604  0.30789538  1.4515068   1.4515068   0.30789538 -0.83571604\n",
      "  -0.83571604 -0.83571604  1.4515068  -0.83571604  1.4515068   0.30789538\n",
      "   0.30789538 -0.83571604]\n",
      " [-0.76267386 -0.76267386 -0.76267386  2.07011476 -0.76267386 -0.76267386\n",
      "  -0.76267386 -0.76267386 -0.76267386 -0.76267386  0.65372045  0.65372045\n",
      "   0.65372045 -0.76267386 -0.76267386 -0.76267386  0.65372045  0.65372045\n",
      "   0.65372045  0.65372045 -0.76267386 -0.76267386  0.65372045  2.07011476\n",
      "   2.07011476 -0.76267386]\n",
      " [-0.3034821  -0.3034821  -1.88158902 -0.3034821   1.27462482 -0.3034821\n",
      "  -0.3034821  -0.3034821  -0.3034821   1.27462482 -0.3034821  -0.3034821\n",
      "  -0.3034821  -0.3034821   2.85273174 -0.3034821  -0.3034821  -0.3034821\n",
      "  -0.3034821  -0.3034821   1.27462482 -0.3034821   1.27462482 -1.88158902\n",
      "   1.27462482 -0.3034821 ]\n",
      " [-0.6164161   1.44819684 -1.47145783 -0.88752689  0.42631771  0.49930907\n",
      "  -0.86667222 -0.88752689  0.86426591  0.80170188 -1.28376574 -0.0950492\n",
      "  -0.22017725  0.6974285   1.05195799  0.86426591  0.2594803  -0.57470675\n",
      "  -0.47043337 -1.28376574  1.65674361 -0.84581754  2.03212778  0.48888174\n",
      "  -0.15761323 -1.42974848]\n",
      " [-0.10956302 -0.248521   -0.87383192  0.23783193  1.00210082  1.28001679\n",
      "   0.16835294  0.06413445  1.55793275  0.23783193 -0.56117646 -1.08226889\n",
      "   0.65470587 -2.02023526  0.72418486  1.24527729 -1.46440334 -1.29070586\n",
      "   0.37678991 -0.38747899  1.28001679  0.93262183  0.93262183 -0.59591596\n",
      "  -1.7075798  -0.35273949]\n",
      " [-0.83746749 -0.04592676  2.28346455 -0.7922366   0.20284319  1.19339988\n",
      "  -0.13638856  0.15761229  1.53715471  1.13007662 -0.86008294  0.15761229\n",
      "  -0.76962115 -0.7922366   0.97176847  0.40638223 -0.22685036 -1.47070008\n",
      "  -0.97316019 -0.7017748   1.19792297 -1.10885289  1.10746117 -1.53854643\n",
      "   0.33853588 -0.4303894 ]\n",
      " [-0.60663789  0.17478219  0.34096654 -0.86200392  0.12135175 -0.14737189\n",
      "   0.98881054  0.36100296  0.1476741   0.68001407 -0.4691331   2.16192282\n",
      "   1.18406734 -0.92093455 -1.25487475  2.68090518 -1.1370135  -0.82468119\n",
      "   0.65054876 -0.86986134 -0.07429792  0.46825669 -0.12929983 -0.97790082\n",
      "  -1.30948379 -0.37680845]]\n"
     ]
    }
   ],
   "source": [
    "desvio_pad = np.sqrt(var)\n",
    "Xz = X_mc/desvio_pad\n",
    "print(desvio_pad)\n",
    "print(Xz.shape)\n",
    "print(Xz)"
   ]
  },
  {
   "cell_type": "markdown",
   "id": "0O_1QSKVuwbp",
   "metadata": {
    "id": "0O_1QSKVuwbp"
   },
   "source": [
    "Agora que ja obtemos a matriz **X** z-normalizada, podemos partir para a implementação passo-a-passo do PCA, como foi descrito em [aula](https://youtu.be/UCuKFbxvRT4?t=1487). Note que, da forma como foi descrito na aula, nossa matriz já está na forma correta: linhas = atributos, e colunas = observações (ou instâncias). Porém, vale lembrar que para algumas implementações já prontas do PCA, pode ser que a forma requisitada seja o transposto.\n",
    "\n"
   ]
  },
  {
   "cell_type": "markdown",
   "id": "U8Wusco4v-gp",
   "metadata": {
    "id": "U8Wusco4v-gp"
   },
   "source": [
    "**1.2.1** Primeiramente, vamos obter a matriz de covariância **S** que é obtida a partir de **X**:\n",
    "\n",
    "$$S = X X^\\top$$\n",
    "\n",
    "Isso pode ser feito usando uma multiplicação de matrizes padrão. Faça essa operação a seguir, salvando a matriz numa variável **S**:"
   ]
  },
  {
   "cell_type": "code",
   "execution_count": 8,
   "id": "QRJ8Ufaqwkdh",
   "metadata": {
    "id": "QRJ8Ufaqwkdh"
   },
   "outputs": [
    {
     "name": "stdout",
     "output_type": "stream",
     "text": [
      "(12, 12)\n",
      "[[ 25.           9.19650951  10.99630979  14.21131802  -8.46517528\n",
      "    3.14123357   3.52024272  14.33454671   6.08947349  -3.83015558\n",
      "    1.9875408   -6.66643432]\n",
      " [  9.19650951  25.          12.01103304  10.5542553   -8.75307523\n",
      "    8.85908575  -0.27777778   8.51103633  10.22893619  -0.73580136\n",
      "    1.55322615  -7.17639496]\n",
      " [ 10.99630979  12.01103304  25.          18.54444748  -5.47717469\n",
      "   12.49942838  -3.73676584  10.70588565  14.63513722  13.73449395\n",
      "    7.84675092  -2.48148441]\n",
      " [ 14.21131802  10.5542553   18.54444748  25.          -3.40102073\n",
      "   12.10829999  -4.38108709  15.49485798  17.69976796   7.52271588\n",
      "    9.38262418  -1.51877056]\n",
      " [ -8.46517528  -8.75307523  -5.47717469  -3.40102073  25.\n",
      "   -1.83464665  -5.5412809   -4.77529819  -1.36216534   3.44629678\n",
      "    2.22501994  21.88361837]\n",
      " [  3.14123357   8.85908575  12.49942838  12.10829999  -1.83464665\n",
      "   25.          -3.6134105    7.84368247  20.61572566   7.63092487\n",
      "   12.2078691    0.69946056]\n",
      " [  3.52024272  -0.27777778  -3.73676584  -4.38108709  -5.5412809\n",
      "   -3.6134105   25.          -3.78268281  -3.89339423  -9.84853464\n",
      "  -10.93684496  -8.11909385]\n",
      " [ 14.33454671   8.51103633  10.70588565  15.49485798  -4.77529819\n",
      "    7.84368247  -3.78268281  25.          12.38146367   7.35888485\n",
      "    8.16742713  -4.07866617]\n",
      " [  6.08947349  10.22893619  14.63513722  17.69976796  -1.36216534\n",
      "   20.61572566  -3.89339423  12.38146367  25.           8.68237446\n",
      "    9.8955069    1.32940983]\n",
      " [ -3.83015558  -0.73580136  13.73449395   7.52271588   3.44629678\n",
      "    7.63092487  -9.84853464   7.35888485   8.68237446  25.\n",
      "    9.07776674   9.50773434]\n",
      " [  1.9875408    1.55322615   7.84675092   9.38262418   2.22501994\n",
      "   12.2078691  -10.93684496   8.16742713   9.8955069    9.07776674\n",
      "   25.           5.0804671 ]\n",
      " [ -6.66643432  -7.17639496  -2.48148441  -1.51877056  21.88361837\n",
      "    0.69946056  -8.11909385  -4.07866617   1.32940983   9.50773434\n",
      "    5.0804671   25.        ]]\n"
     ]
    }
   ],
   "source": [
    "# Insira seu código aqui\n",
    "S = Xz @ np.transpose(Xz) \n",
    "print(S.shape)\n",
    "print(S)"
   ]
  },
  {
   "cell_type": "markdown",
   "id": "CJaN8gpuwo_s",
   "metadata": {
    "id": "CJaN8gpuwo_s"
   },
   "source": [
    "**1.2.2** Então, agora que já possuímos **S**, o próximo passo é obter a sua decomposição espectral:\n",
    "\n",
    "$$S = E D E^\\top$$\n",
    "\n",
    "Para isso, podemos usar a função que ja usamos nos EP's passados [`np.linalg.eig`](https://numpy.org/doc/stable/reference/generated/numpy.linalg.eig.html). Lembre-se de que o retorno dessa função são duas variáveis: os autovalores em um vetor, e os autovetores correspondentes em uma matriz ortogonal (cada coluna `i` corresponde ao autovalor na posição `i`). Faça essa operação a seguir, salvando o vetor com autovalores em **D_vet** e autovetores em uma matriz **E**:"
   ]
  },
  {
   "cell_type": "code",
   "execution_count": 9,
   "id": "IqdMB2JOxPRb",
   "metadata": {
    "id": "IqdMB2JOxPRb"
   },
   "outputs": [
    {
     "name": "stdout",
     "output_type": "stream",
     "text": [
      "(12,)\n",
      "(12, 12)\n",
      "[110.23923107  66.78645737  25.82540838  24.08461839  20.3567365\n",
      "  17.39570785   0.54176754   2.1061148    3.82450112  12.07932993\n",
      "   6.61040151  10.14972553]\n",
      "[[-0.25392486  0.29771613 -0.5757828  -0.03338108  0.12088819 -0.04267729\n",
      "   0.31297636 -0.06626003 -0.11881969 -0.27339469  0.55150868 -0.04942313]\n",
      " [-0.27082817  0.2313906   0.1262835  -0.16516833 -0.01783075  0.7514786\n",
      "   0.11502601  0.06036685 -0.10963411  0.05287985 -0.07843283  0.47644686]\n",
      " [-0.39509345  0.00962857  0.01140096  0.05466674 -0.46504995  0.06668118\n",
      "  -0.36349781 -0.29846015  0.47205623 -0.41563648 -0.00374787 -0.05619829]\n",
      " [-0.4139718   0.02260976 -0.23906854 -0.07097244 -0.04890814 -0.01386375\n",
      "   0.02527345  0.49563389 -0.21809819 -0.13844022 -0.55169198 -0.38203773]\n",
      " [ 0.11661629 -0.48154263 -0.33671047 -0.37896753  0.03658636  0.12374161\n",
      "   0.43391892 -0.05776156  0.50084702  0.02381127 -0.18841448  0.04837049]\n",
      " [-0.3445626  -0.10795084  0.43637138 -0.34816954  0.20173934 -0.15075849\n",
      "  -0.03301642  0.47124338  0.27805891  0.05131073  0.43388278 -0.05648108]\n",
      " [ 0.12248055  0.35054984 -0.02282575 -0.54016767 -0.26170941 -0.4927883\n",
      "  -0.01263985  0.02963601 -0.07029754 -0.11540449 -0.19142474  0.45004181]\n",
      " [-0.34122187  0.0755269  -0.38104437  0.19333815  0.12688487 -0.18932551\n",
      "  -0.28297108  0.00883739  0.24317604  0.64863944 -0.06568185  0.28109144]\n",
      " [-0.39574724 -0.08759492  0.20102619 -0.35662836  0.06601133 -0.09519183\n",
      "   0.12756279 -0.6269171  -0.30422775  0.27387041 -0.07016108 -0.27003249]\n",
      " [-0.21821695 -0.3501441   0.10412663  0.31968326 -0.5862236  -0.18539127\n",
      "   0.42559204  0.13101935 -0.21429658  0.12690905  0.14327462  0.24054415]\n",
      " [-0.25384914 -0.26612221  0.11079193  0.24648676  0.53535494 -0.23103859\n",
      "   0.04179753 -0.12894412 -0.06978823 -0.4448759  -0.21412312  0.4297883 ]\n",
      " [ 0.04766861 -0.53291519 -0.28671313 -0.28185726 -0.07179983  0.12363327\n",
      "  -0.53599386  0.06366483 -0.40971889 -0.06529261  0.22203072  0.13736012]]\n"
     ]
    }
   ],
   "source": [
    "# Insira seu código aqui\n",
    "D_vet, E = np.linalg.eig(S)\n",
    "print(D_vet.shape)\n",
    "print(E.shape)\n",
    "print(D_vet)\n",
    "print(E)"
   ]
  },
  {
   "cell_type": "markdown",
   "id": "L6GY8Y-kxqQr",
   "metadata": {
    "id": "L6GY8Y-kxqQr"
   },
   "source": [
    "**1.2.3** O próximo passo do PCA é ordenar os autovalores em ordem decrescente. O motivo disso é deixar os componentes principais (autovetores com autovalores de maior magnitude) nas primeiras colunas de **E**. Portanto, quando reordenamos os autovalores, precisamos guardar qual a ordem que usamos para obtê-los na ordem decrescente, porque essa ordem também será usada para reordenar as colunas de **E**. Por exemplo, suponha que após executar o `np.linalg.eig` obtemos os seguintes autovalores:\n",
    "\n",
    "$$D_{vet} = [0.34,\\ 15.67,\\ 40.60,\\ 28.00,\\ 10.98]$$\n",
    "\n",
    "Então, a ordem dos *índices* que usamos para obter o vetor ordenado decrescentemente é a seguite (considerando que o array inicia com índice 0):\n",
    "\n",
    "$$[2, 3, 1, 4, 0]$$\n",
    "\n",
    "Felizmente, tanto o cálculo desse índice de ordenação quanto a reorganização dos valores dentro de vetores e matrizes pode ser feito facilmente pelo `numpy`. Primeiro, para calcularmos os índices de ordenação podemos usar a função [`numpy.argsort`](https://numpy.org/doc/stable/reference/generated/numpy.argsort.html). Um detalhe é que essa função retorna os índices para ordenar o vetor em ordem crescente, mas queremos ele em ordem decrescente. Para contornar essa limitação podemos reverter os índices resultantes, ou alterantivamente passar para função os valores de $D_{vet}$ com o sinal trocado. Calcule esses índices de ordenação, e guarde em uma variável **indx**:"
   ]
  },
  {
   "cell_type": "code",
   "execution_count": 10,
   "id": "VLdqQbXhxpmi",
   "metadata": {
    "id": "VLdqQbXhxpmi"
   },
   "outputs": [
    {
     "name": "stdout",
     "output_type": "stream",
     "text": [
      "[ 0  1  2  3  4  5  9 11 10  8  7  6]\n"
     ]
    }
   ],
   "source": [
    "# Insira seu código aqui\n",
    "indx = np.argsort(D_vet*(-1))\n",
    "print(indx)"
   ]
  },
  {
   "cell_type": "markdown",
   "id": "DNslv6511PU1",
   "metadata": {
    "id": "DNslv6511PU1"
   },
   "source": [
    "**1.2.4** Agora que já temos os índices de ordenação, podemos usá-los para reordenar o vetor de autovalores **D_vet** e a matriz com autovetores **E**. O `numpy` permite fazer isso usando seus mecanismos de *indexação*. Usando os índices calculados anteriormente (e que ficam guardados em um `numpy.array`) podemos reordenar tanto o [vetor](https://numpy.org/doc/stable/user/basics.indexing.html#index-arrays) de autovalores quanto as [colunas da matriz](https://numpy.org/doc/stable/user/basics.indexing.html#indexing-multi-dimensional-arrays) dos autovetores. Portanto, podemos fazer essa reordenação com uma operação para os autovalores, e uma operação para os autovetores. Faça essa reordenação a seguir, salvando o vetor de autovalores reordenado em **D_vo**, e a matriz com os autovetores reordenados em **Eo**:"
   ]
  },
  {
   "cell_type": "code",
   "execution_count": 11,
   "id": "SPPeCMjr1rul",
   "metadata": {
    "id": "SPPeCMjr1rul"
   },
   "outputs": [
    {
     "name": "stdout",
     "output_type": "stream",
     "text": [
      "(12, 12)\n",
      "(12, 12)\n",
      "[[-0.25392486  0.29771613 -0.5757828  -0.03338108  0.12088819 -0.04267729\n",
      "  -0.27339469 -0.04942313  0.55150868 -0.11881969 -0.06626003  0.31297636]\n",
      " [-0.27082817  0.2313906   0.1262835  -0.16516833 -0.01783075  0.7514786\n",
      "   0.05287985  0.47644686 -0.07843283 -0.10963411  0.06036685  0.11502601]\n",
      " [-0.39509345  0.00962857  0.01140096  0.05466674 -0.46504995  0.06668118\n",
      "  -0.41563648 -0.05619829 -0.00374787  0.47205623 -0.29846015 -0.36349781]\n",
      " [-0.4139718   0.02260976 -0.23906854 -0.07097244 -0.04890814 -0.01386375\n",
      "  -0.13844022 -0.38203773 -0.55169198 -0.21809819  0.49563389  0.02527345]\n",
      " [ 0.11661629 -0.48154263 -0.33671047 -0.37896753  0.03658636  0.12374161\n",
      "   0.02381127  0.04837049 -0.18841448  0.50084702 -0.05776156  0.43391892]\n",
      " [-0.3445626  -0.10795084  0.43637138 -0.34816954  0.20173934 -0.15075849\n",
      "   0.05131073 -0.05648108  0.43388278  0.27805891  0.47124338 -0.03301642]\n",
      " [ 0.12248055  0.35054984 -0.02282575 -0.54016767 -0.26170941 -0.4927883\n",
      "  -0.11540449  0.45004181 -0.19142474 -0.07029754  0.02963601 -0.01263985]\n",
      " [-0.34122187  0.0755269  -0.38104437  0.19333815  0.12688487 -0.18932551\n",
      "   0.64863944  0.28109144 -0.06568185  0.24317604  0.00883739 -0.28297108]\n",
      " [-0.39574724 -0.08759492  0.20102619 -0.35662836  0.06601133 -0.09519183\n",
      "   0.27387041 -0.27003249 -0.07016108 -0.30422775 -0.6269171   0.12756279]\n",
      " [-0.21821695 -0.3501441   0.10412663  0.31968326 -0.5862236  -0.18539127\n",
      "   0.12690905  0.24054415  0.14327462 -0.21429658  0.13101935  0.42559204]\n",
      " [-0.25384914 -0.26612221  0.11079193  0.24648676  0.53535494 -0.23103859\n",
      "  -0.4448759   0.4297883  -0.21412312 -0.06978823 -0.12894412  0.04179753]\n",
      " [ 0.04766861 -0.53291519 -0.28671313 -0.28185726 -0.07179983  0.12363327\n",
      "  -0.06529261  0.13736012  0.22203072 -0.40971889  0.06366483 -0.53599386]]\n",
      "[[110.23923107  66.78645737  25.82540838  24.08461839  20.3567365\n",
      "   17.39570785  12.07932993  10.14972553   6.61040151   3.82450112\n",
      "    2.1061148    0.54176754]]\n"
     ]
    }
   ],
   "source": [
    "# Insira seu código aqui\n",
    "D_vo = D_vet[np.array([indx])]\n",
    "Eo = E[:,indx]\n",
    "print(E.shape)\n",
    "print(Eo.shape)\n",
    "print(Eo)\n",
    "print(D_vo)"
   ]
  },
  {
   "cell_type": "markdown",
   "id": "yFiO_G4f24p-",
   "metadata": {
    "id": "yFiO_G4f24p-"
   },
   "source": [
    "**1.2.5** Agora que já obtemos os autovalores e autovetores de **S** reordenados, podemos obter a matriz **P** com os componentes principais. Para isso basta obter a transposta de **Eo**:\n",
    "\n",
    "$$P = E^\\top$$\n",
    "\n",
    "Obtenha essa matriz **P** a seguir (salve o resultado numa variável chamada **P**):"
   ]
  },
  {
   "cell_type": "code",
   "execution_count": 12,
   "id": "cgVJUUj22wId",
   "metadata": {
    "id": "cgVJUUj22wId"
   },
   "outputs": [
    {
     "name": "stdout",
     "output_type": "stream",
     "text": [
      "(12, 12)\n"
     ]
    }
   ],
   "source": [
    "# Insira seu código aqui\n",
    "P = np.transpose(Eo)\n",
    "print(P.shape)"
   ]
  },
  {
   "cell_type": "markdown",
   "id": "TvL9beoO3drS",
   "metadata": {
    "id": "TvL9beoO3drS"
   },
   "source": [
    "**1.2.6** Com a matriz **P** de componentes principais, podemos transformar os dados originais **Xz** com esses novos componentes. Para isso, podemos simplesmente multiplicar a matriz de dados **Xz** por **P**, e obter os dados transformados **Y**:\n",
    "\n",
    "$$Y = PX$$\n",
    "\n",
    "Obtenha essa projeção **Y** dos dados a seguir (salve o resultado em uma variável chamada **Y**):"
   ]
  },
  {
   "cell_type": "code",
   "execution_count": 13,
   "id": "GCIzFiFC3_bo",
   "metadata": {
    "id": "GCIzFiFC3_bo"
   },
   "outputs": [
    {
     "name": "stdout",
     "output_type": "stream",
     "text": [
      "(12, 26)\n",
      "[[ 1.81505509e+00 -2.05358622e+00  2.93782732e+00 -5.30394971e-01\n",
      "  -9.28069541e-01 -1.32992769e+00  1.55007231e+00  1.32819471e+00\n",
      "  -1.98867387e+00 -2.85312893e+00  2.32927926e+00  1.63288521e+00\n",
      "   9.99348762e-01 -9.42600318e-01 -4.81221360e+00 -1.09007271e+00\n",
      "   2.64704516e-01  2.90258812e+00  1.99341561e+00  8.94102154e-01\n",
      "  -3.59220202e+00  1.99778479e+00 -2.81640691e+00  1.14046864e+00\n",
      "   5.63530126e-02  1.09519729e+00]\n",
      " [ 3.17407470e-01 -2.25557565e-01 -1.76868548e+00  2.51140902e+00\n",
      "  -4.47614091e-01 -1.34981396e+00 -1.20191174e+00 -7.07978088e-01\n",
      "  -1.55704877e+00 -6.18895136e-01  1.09432109e+00 -2.48767229e+00\n",
      "  -6.40711890e-01  2.23086043e+00  1.03385652e+00 -3.36858500e+00\n",
      "   2.20590016e+00  5.87652894e-01 -5.38041055e-01  1.79939263e+00\n",
      "  -6.36022449e-01 -1.29597962e+00 -5.26562531e-01  1.70852613e+00\n",
      "   3.29756668e+00  5.84186631e-01]\n",
      " [ 6.90557448e-01  1.17961231e-01  8.57967565e-01 -7.77912958e-01\n",
      "  -1.15284449e+00  1.72613925e+00 -2.97457295e-01  5.90441202e-02\n",
      "   1.49991908e+00 -2.65176399e+00 -6.67198176e-01 -1.28263833e+00\n",
      "  -7.89001411e-01  3.76743773e-01 -7.18196864e-01 -3.62369198e-01\n",
      "   5.59902101e-01  9.59451868e-02 -8.09040864e-02  4.73017280e-02\n",
      "   1.39783612e+00 -1.84853109e-01  8.33052421e-01  1.78961232e+00\n",
      "  -5.78022347e-01 -5.08820087e-01]\n",
      " [ 1.07645290e+00 -8.16450243e-01  1.14099677e+00 -3.10787464e-01\n",
      "   1.12340604e+00  6.08911003e-01  5.88704312e-01  9.39490066e-01\n",
      "   5.83156011e-01  4.30508912e-01  4.83410480e-01 -2.67037348e+00\n",
      "  -4.97162911e-01 -6.93441283e-01  9.20544128e-01 -1.35582844e+00\n",
      "  -7.04702794e-01 -4.03680720e-01 -4.18003410e-01  4.05095036e-01\n",
      "   6.72521599e-02  9.57656817e-01 -6.00063174e-01 -1.65425079e+00\n",
      "  -4.24774416e-01  1.22393450e+00]\n",
      " [ 3.32826696e-02  3.58525759e-01  1.89371696e+00 -2.08085503e+00\n",
      "  -3.34844545e-01 -7.03732097e-02 -1.30506812e-01  3.54458312e-01\n",
      "  -1.86733953e-01  2.33642958e-01  8.15182508e-02  1.02645802e+00\n",
      "  -1.21190701e+00  9.54514290e-01  2.96581482e-01 -3.07653801e-01\n",
      "   1.24671068e+00  7.26724093e-02 -7.32892737e-01 -5.89232400e-01\n",
      "  -4.44053076e-02 -1.06974326e+00  1.19713186e-02 -1.41170203e+00\n",
      "   1.65923462e+00 -5.24376330e-02]\n",
      " [ 5.21516741e-01 -1.77884304e-02 -3.47914996e-01  5.88436541e-02\n",
      "  -1.39237463e-01 -4.55265653e-01  7.02675376e-01  4.52209183e-01\n",
      "  -5.90213362e-01 -1.52708101e-01 -1.02033921e+00  3.55551343e-01\n",
      "   1.07902853e-02  2.41885763e+00 -2.53072589e-01  2.29873463e-01\n",
      "   4.41807071e-01 -6.46675530e-01  4.46083012e-02  8.30204262e-01\n",
      "   1.04704690e+00 -2.30393162e-01 -1.55842856e+00 -5.94165986e-01\n",
      "  -1.71957184e+00  6.11790677e-01]\n",
      " [ 9.36394521e-01 -4.40142127e-01 -1.74259799e+00 -1.46196159e+00\n",
      "   6.46133376e-01 -3.54427158e-01  1.03569245e-01  2.44390859e-01\n",
      "  -7.04208545e-01 -7.83888788e-01  3.82650834e-02  1.11058939e-01\n",
      "   3.13371901e-02 -6.80610474e-02  5.63289915e-01 -1.70594578e-01\n",
      "   1.63140979e-01  9.44589608e-01  8.50488324e-01 -2.80773616e-01\n",
      "   7.82890914e-01  6.72019543e-01  6.27600259e-01 -5.47983799e-01\n",
      "   2.74994253e-01 -4.35523769e-01]\n",
      " [-3.56371696e-01 -1.66193910e+00  4.33217129e-01  8.91108402e-01\n",
      "   1.71259421e-01  5.56141458e-02  3.61690688e-01 -2.45340860e-02\n",
      "   5.98830117e-02 -8.52946221e-01 -3.07275332e-01  6.61091406e-01\n",
      "   4.51036110e-01 -6.22447892e-01  5.33593076e-02 -3.32206880e-02\n",
      "   9.26470824e-02 -8.68869805e-01  4.83295735e-01  6.30972297e-01\n",
      "   1.03799212e+00 -5.51413922e-01  1.29423822e-01 -7.81713176e-01\n",
      "   8.66919135e-01 -3.18777892e-01]\n",
      " [-1.06817917e-01  5.37443702e-01 -4.27249540e-01 -4.81722334e-02\n",
      "   2.68380931e-01  2.60961126e-01  2.93812205e-01 -6.57840872e-01\n",
      "   3.58724644e-01 -1.14638809e+00  6.16281440e-01 -3.09943484e-01\n",
      "   3.38838473e-01  3.24227724e-01  4.01753295e-02  9.85512682e-01\n",
      "   1.53362835e-01 -7.18282581e-01 -2.59502094e-01 -3.33353915e-01\n",
      "  -4.73397279e-01  4.49646894e-01 -6.24197977e-01 -5.11498874e-01\n",
      "   6.81374089e-01  3.07902780e-01]\n",
      " [-2.13829838e-01 -1.66592342e-01  1.41762472e-01  3.24371177e-01\n",
      "  -1.01114940e-01  2.94108717e-01  1.05194592e-02 -5.95268395e-01\n",
      "   9.19599795e-03 -5.21469559e-01 -6.18656007e-02  6.84016401e-01\n",
      "  -4.43161735e-01  1.04080126e-01  8.90661791e-01 -2.50450711e-01\n",
      "  -4.73247163e-01  8.04539971e-01 -4.22933066e-01  6.96260195e-02\n",
      "  -9.28254497e-02  2.78407009e-01 -1.70257277e-01 -1.24037214e-01\n",
      "  -2.88600289e-01  3.14364440e-01]\n",
      " [ 1.99126530e-02  1.08946234e-01 -3.53531370e-01 -6.19196229e-02\n",
      "  -7.78944969e-01  1.74422080e-01 -1.90808609e-01  5.88004507e-01\n",
      "  -4.14550372e-02 -2.92005281e-02  2.28929886e-01  1.25195712e-01\n",
      "  -3.09428994e-01 -4.57830841e-01  3.18618529e-01  2.98450601e-01\n",
      "   7.98724060e-02 -1.65852665e-01  1.17178717e-01  4.38045609e-01\n",
      "  -5.61730914e-02 -6.26732290e-02 -2.07987067e-01 -8.11774676e-02\n",
      "   1.21539952e-02  2.87252563e-01]\n",
      " [ 7.41931248e-02  2.02694145e-02 -1.32529910e-02  6.71417468e-02\n",
      "   2.35887598e-01  1.21029657e-01 -3.11772003e-01 -1.03975339e-01\n",
      "   1.13385187e-01  1.56398568e-02  9.71597467e-02  1.39479574e-01\n",
      "  -8.07416714e-02 -1.41353053e-01  6.02963114e-03 -1.01003145e-01\n",
      "   3.96245933e-01 -5.54488982e-02  1.20032001e-01  2.07836099e-03\n",
      "  -4.52945770e-02  2.08567968e-02 -1.73256106e-01 -6.84499794e-02\n",
      "  -2.23883594e-01 -1.10997271e-01]]\n"
     ]
    }
   ],
   "source": [
    "# Insira seu código aqui\n",
    "Y = P @ Xz\n",
    "print(Y.shape)\n",
    "print(Y)"
   ]
  },
  {
   "cell_type": "markdown",
   "id": "kw85aWjH4CL7",
   "metadata": {
    "id": "kw85aWjH4CL7"
   },
   "source": [
    "**1.2.7** Por fim, podemos ver que a matriz **Y** obtida anteriormente com os dados transformados utiliza todos os componentes principais. Porém, quando usamos o PCA tipicamente queremos usar menos componentes principais para obter uma redução de dimensionalidade dos dados. Obtenha a reconstrução dos dados **Xz** usando apenas os 3 primeiros componentes principais. Para isso, fazemos a mesma operação feita acima, porém considerando apenas as 3 primeiras linhas de P. Faça essa operação a seguir e salve o resultado em **Y_3**:"
   ]
  },
  {
   "cell_type": "code",
   "execution_count": 14,
   "id": "k7uBDssY4ln3",
   "metadata": {
    "id": "k7uBDssY4ln3"
   },
   "outputs": [
    {
     "name": "stdout",
     "output_type": "stream",
     "text": [
      "(3, 26)\n",
      "[[ 1.81505509 -2.05358622  2.93782732 -0.53039497 -0.92806954 -1.32992769\n",
      "   1.55007231  1.32819471 -1.98867387 -2.85312893  2.32927926  1.63288521\n",
      "   0.99934876 -0.94260032 -4.8122136  -1.09007271  0.26470452  2.90258812\n",
      "   1.99341561  0.89410215 -3.59220202  1.99778479 -2.81640691  1.14046864\n",
      "   0.05635301  1.09519729]\n",
      " [ 0.31740747 -0.22555756 -1.76868548  2.51140902 -0.44761409 -1.34981396\n",
      "  -1.20191174 -0.70797809 -1.55704877 -0.61889514  1.09432109 -2.48767229\n",
      "  -0.64071189  2.23086043  1.03385652 -3.368585    2.20590016  0.58765289\n",
      "  -0.53804106  1.79939263 -0.63602245 -1.29597962 -0.52656253  1.70852613\n",
      "   3.29756668  0.58418663]\n",
      " [ 0.69055745  0.11796123  0.85796756 -0.77791296 -1.15284449  1.72613925\n",
      "  -0.2974573   0.05904412  1.49991908 -2.65176399 -0.66719818 -1.28263833\n",
      "  -0.78900141  0.37674377 -0.71819686 -0.3623692   0.5599021   0.09594519\n",
      "  -0.08090409  0.04730173  1.39783612 -0.18485311  0.83305242  1.78961232\n",
      "  -0.57802235 -0.50882009]]\n"
     ]
    }
   ],
   "source": [
    "# Insira seu código aqui\n",
    "Y_3 = P[:3,:] @ Xz\n",
    "print(Y_3.shape)\n",
    "print(Y_3)"
   ]
  },
  {
   "cell_type": "markdown",
   "id": "standard-brook",
   "metadata": {
    "id": "standard-brook"
   },
   "source": [
    "### Questão 2 - Regressão Linear Simples\n",
    "\n",
    "Nesta questão faremos a regressão linear para uma das variáveis do imóvel. Buscaremos estabelecer uma relação entre o valor do imóvel e a área habitável do imóvel. Faremos o cálculo através da expressão analítica."
   ]
  },
  {
   "cell_type": "code",
   "execution_count": 15,
   "id": "thick-hybrid",
   "metadata": {
    "id": "thick-hybrid",
    "outputId": "9a6d28bd-6a08-48d2-9b9b-b473299ff3bf"
   },
   "outputs": [
    {
     "data": {
      "image/png": "[encoded data removed]",
      "text/plain": [
       "<Figure size 432x288 with 1 Axes>"
      ]
     },
     "metadata": {
      "needs_background": "light"
     },
     "output_type": "display_data"
    }
   ],
   "source": [
    "# ATENÇÃO: Não editar esta célula\n",
    "\n",
    "# selecionando os preços e as áreas habitáveis do imóvel\n",
    "Y = data[:,0] # Preço do imóvel\n",
    "X = data[:,3] # Área habitável do imóvel\n",
    "\n",
    "try:\n",
    "    plt.plot(X, Y, 'ro');\n",
    "except:\n",
    "    pass"
   ]
  },
  {
   "cell_type": "markdown",
   "id": "D1MgA-maaObz",
   "metadata": {
    "id": "D1MgA-maaObz"
   },
   "source": [
    "Conforme pudemos acompanhar durante a [aula](https://youtu.be/4qwuwMbsUZA?t=2262), para casos simples podemos calcular a regressão através de uma expressão analítica. Os coeficientes $\\beta_1$ e $\\beta_0$ podem ser calculados diretamente através das seguintes formulas:\n",
    "\n",
    "$$\\beta_1 =  \\frac{\\sum_{i=1}^{n} ( \\textbf{x}_i - \\hat{x})(\\textbf{y}_i - \\hat{y}) }{\\sum_{i=1}^{n} ( \\textbf{x}_i - \\hat{x})^2} $$\n",
    "\n",
    "$$\\beta_0 =  \\hat{y} - \\beta_1 \\hat{x} $$\n",
    "\n",
    "**2.1** Calcule as médias dos valores de X e Y. Salve os valores obtidos nas variáveis **mu_x** e **mu_y**, respectivamente."
   ]
  },
  {
   "cell_type": "code",
   "execution_count": 16,
   "id": "lonely-certificate",
   "metadata": {
    "id": "lonely-certificate"
   },
   "outputs": [
    {
     "name": "stdout",
     "output_type": "stream",
     "text": [
      "1725.576923076923\n",
      "387113.46153846156\n"
     ]
    }
   ],
   "source": [
    "# Insira seu código aqui\n",
    "mu_x = np.mean(X)\n",
    "mu_y = np.mean(Y)\n",
    "print(mu_x)\n",
    "print(mu_y)"
   ]
  },
  {
   "cell_type": "markdown",
   "id": "L78LObHLaObz",
   "metadata": {
    "id": "L78LObHLaObz"
   },
   "source": [
    "**2.2** Calcule os valores de $\\beta_1$ e de $\\beta_0$. Salve o valor nas variáveis **b1** e **b0**, respectivamente."
   ]
  },
  {
   "cell_type": "code",
   "execution_count": 17,
   "id": "compliant-indonesian",
   "metadata": {
    "id": "compliant-indonesian"
   },
   "outputs": [
    {
     "name": "stdout",
     "output_type": "stream",
     "text": [
      "140.3230551849408\n",
      "144975.2357356781\n"
     ]
    }
   ],
   "source": [
    "# Insira seu código aqui\n",
    "b1 = (sum((X-mu_x)*(Y-mu_y)))/(sum((X-mu_x)**2))\n",
    "b0 = mu_y-b1*mu_x\n",
    "print(b1)\n",
    "print(b0)"
   ]
  },
  {
   "cell_type": "markdown",
   "id": "conscious-instrument",
   "metadata": {
    "id": "conscious-instrument"
   },
   "source": [
    "Com os valores de $\\beta_1$ e de $\\beta_0$ calculados já temos a regressão linear definida. O resultado da regressão poderá ser vista no gráfico abaixo.\n"
   ]
  },
  {
   "cell_type": "code",
   "execution_count": 18,
   "id": "interesting-attachment",
   "metadata": {
    "id": "interesting-attachment",
    "outputId": "bf46f349-7745-4ac7-b6cd-531739001039"
   },
   "outputs": [
    {
     "data": {
      "image/png": "[encoded data removed]",
      "text/plain": [
       "<Figure size 432x288 with 1 Axes>"
      ]
     },
     "metadata": {
      "needs_background": "light"
     },
     "output_type": "display_data"
    }
   ],
   "source": [
    "# ATENÇÃO: Não editar esta célula\n",
    "x_line = np.linspace(0, max(X))\n",
    "y_hat = b0 + b1 * x_line\n",
    "\n",
    "try:\n",
    "    plt.plot(X, Y, 'ro')\n",
    "    plt.plot(x_line, y_hat, 'b')\n",
    "except:\n",
    "    pass"
   ]
  },
  {
   "cell_type": "markdown",
   "id": "i5xi-VDSaOb0",
   "metadata": {
    "id": "i5xi-VDSaOb0"
   },
   "source": [
    "O que você acha? O preço do imóvel pode ser aproximado com precisão baseando-se apenas na área habitável do imóvel? "
   ]
  },
  {
   "cell_type": "code",
   "execution_count": 19,
   "id": "06f4e9cc",
   "metadata": {},
   "outputs": [],
   "source": [
    "#Acho que não. São necessários mais features para obter um bom ajuste."
   ]
  },
  {
   "cell_type": "markdown",
   "id": "serious-apache",
   "metadata": {
    "id": "serious-apache"
   },
   "source": [
    "### Questão 3 - Regressão Linear Múltipla\n",
    "\n",
    "Como vimos na [aula](https://youtu.be/vYXuiGyjYoA?t=197), é razoavel supor que o preço de um imóvel não depende apenas de um fator, mas seria uma soma ponderada de vários fatores. Para isso usamos a regressão linear múltipla. A implementação detalhada desse algoritimo será objeto das próximas aulas, mas vamos experimentar a função do numpy que faz e avaliar a influência de alguns fatores."
   ]
  },
  {
   "cell_type": "code",
   "execution_count": 20,
   "id": "progressive-apartment",
   "metadata": {
    "id": "progressive-apartment",
    "outputId": "47f186f7-f43b-479b-f7ec-f49a28897e6a",
    "scrolled": true
   },
   "outputs": [
    {
     "name": "stdout",
     "output_type": "stream",
     "text": [
      "(26, 12)\n",
      "(26,)\n"
     ]
    }
   ],
   "source": [
    "# ATENÇÃO: Não editar esta célula\n",
    "X = data[:,1:] #Conjunto de variáveis que compõe o X\n",
    "b0_ones = np.ones((X.shape[0],1))\n",
    "X = np.append(b0_ones, X, axis=1)\n",
    "Y =  data[:,0]\n",
    "print(X.shape)\n",
    "print(Y.shape)"
   ]
  },
  {
   "cell_type": "markdown",
   "id": "speaking-function",
   "metadata": {
    "id": "speaking-function"
   },
   "source": [
    "|    | price    | bedrooms | bathrooms | sqft_living | sqft_lot | floors | condition | grade | sqft_above | yr_built | sqft_living15 | sqft_lot15 |\n",
    "|----|----------|----------|-----------|-------------|----------|--------|-----------|-------|------------|----------|---------------|------------|\n",
    "| 0  | 221900.0 | 3        | 1.00      | 1180        | 5650     | 1.0    | 3         | 7     | 1180       | 1955     | 1340          | 5650       |\n",
    "| 1  | 538000.0 | 3        | 2.25      | 2570        | 7242     | 2.0    | 3         | 7     | 2170       | 1951     | 1690          | 7639       |\n",
    "| 2  | 180000.0 | 2        | 1.00      | 770         | 10000    | 1.0    | 3         | 6     | 770        | 1933     | 2720          | 8062       |\n",
    "| 3  | 604000.0 | 4        | 3.00      | 1960        | 5000     | 1.0    | 5         | 7     | 1050       | 1965     | 1360          | 5000       |\n",
    "| 4  | 510000.0 | 3        | 2.00      | 1680        | 8080     | 1.0    | 3         | 8     | 1680       | 1987     | 1800          | 7503       |\n",
    "| 6  | 257500.0 | 3        | 2.25      | 1715        | 6819     | 2.0    | 3         | 7     | 1715       | 1995     | 2238          | 6819       |\n",
    "| 7  | 291850.0 | 3        | 1.50      | 1060        | 9711     | 1.0    | 3         | 7     | 1060       | 1963     | 1650          | 9711       |\n",
    "| 8  | 229500.0 | 3        | 1.00      | 1780        | 7470     | 1.0    | 3         | 7     | 1050       | 1960     | 1780          | 8113       |\n",
    "| 9  | 323000.0 | 3        | 2.50      | 1890        | 6560     | 2.0    | 3         | 7     | 1890       | 2003     | 2390          | 7570       |\n",
    "| 10 | 662500.0 | 3        | 2.50      | 3560        | 9796     | 1.0    | 3         | 8     | 1860       | 1965     | 2210          | 8925       |\n",
    "| 11 | 468000.0 | 2        | 1.00      | 1160        | 6000     | 1.0    | 4         | 7     | 860        | 1942     | 1330          | 6000       |\n",
    "| 12 | 310000.0 | 3        | 1.00      | 1430        | 19901    | 1.5    | 4         | 7     | 1430       | 1927     | 1780          | 12697      |\n",
    "| 13 | 400000.0 | 3        | 1.75      | 1370        | 9680     | 1.0    | 4         | 7     | 1370       | 1977     | 1370          | 10208      |\n",
    "| 14 | 530000.0 | 5        | 2.00      | 1810        | 4850     | 1.5    | 3         | 7     | 1810       | 1900     | 1360          | 4850       |\n",
    "| 15 | 650000.0 | 4        | 3.00      | 2950        | 5000     | 2.0    | 3         | 9     | 1980       | 1979     | 2140          | 4000       |\n",
    "| 16 | 395000.0 | 3        | 2.00      | 1890        | 14040    | 2.0    | 3         | 7     | 1890       | 1994     | 1890          | 14018      |\n",
    "| 17 | 485000.0 | 4        | 1.00      | 1600        | 4300     | 1.5    | 4         | 7     | 1600       | 1916     | 1610          | 4300       |\n",
    "| 18 | 189000.0 | 2        | 1.00      | 1200        | 9850     | 1.0    | 4         | 7     | 1200       | 1921     | 1060          | 5095       |\n",
    "| 19 | 230000.0 | 3        | 1.00      | 1250        | 9774     | 1.0    | 4         | 7     | 1250       | 1969     | 1280          | 8850       |\n",
    "| 20 | 385000.0 | 4        | 1.75      | 1620        | 4980     | 1.0    | 4         | 7     | 860        | 1947     | 1400          | 4980       |\n",
    "| 22 | 285000.0 | 5        | 2.50      | 2270        | 6300     | 2.0    | 3         | 8     | 2270       | 1995     | 2240          | 7005       |\n",
    "| 23 | 252700.0 | 2        | 1.50      | 1070        | 9643     | 1.0    | 3         | 7     | 1070       | 1985     | 1220          | 8386       |\n",
    "| 24 | 329000.0 | 3        | 2.25      | 2450        | 6500     | 2.0    | 4         | 8     | 2450       | 1985     | 2200          | 6865       |\n",
    "| 25 | 233000.0 | 3        | 2.00      | 1710        | 4697     | 1.5    | 5         | 6     | 1710       | 1941     | 1030          | 4705       |\n",
    "| 27 | 667000.0 | 3        | 1.00      | 1400        | 1581     | 1.5    | 5         | 8     | 1400       | 1909     | 1860          | 3861       |\n",
    "| 28 | 438000.0 | 3        | 1.75      | 1520        | 6380     | 1.0    | 3         | 7     | 790        | 1948     | 1520          | 6235       |"
   ]
  },
  {
   "cell_type": "markdown",
   "id": "n8QhRQK4aOb1",
   "metadata": {
    "id": "n8QhRQK4aOb1"
   },
   "source": [
    "**3.1** Vamos então calcular os pesos da soma ponderada de cada fator da tabela de preços dos imóveis. Para isso, por enquanto, utilizaremos a função **np.linalg.lstsq** [(doc)](https://numpy.org/doc/stable/reference/generated/numpy.linalg.lstsq.html) do numpy. Esta função recebe a tabela de dados X e os valores dos preços dos imóveis. Os valores dos pesos deverão ser salvos na variável **vector_b**."
   ]
  },
  {
   "cell_type": "code",
   "execution_count": 21,
   "id": "fatal-delivery",
   "metadata": {
    "id": "fatal-delivery"
   },
   "outputs": [
    {
     "name": "stdout",
     "output_type": "stream",
     "text": [
      "(12,)\n",
      "[ 9.13909817e+06 -4.25983834e+04  1.90650348e+05  2.81368656e+01\n",
      " -3.82301141e+01  2.02712677e+04  1.66968897e+04  1.74711542e+05\n",
      " -1.13105428e+02 -5.26384748e+03 -2.85939556e+01  6.58660650e+01]\n"
     ]
    }
   ],
   "source": [
    "# Insira seu código aqui\n",
    "vector_b = np.linalg.lstsq(X, Y, rcond=-1)[0]\n",
    "print(vector_b.shape)\n",
    "print(vector_b)"
   ]
  },
  {
   "cell_type": "markdown",
   "id": "HfzQuM_5aOb2",
   "metadata": {
    "id": "HfzQuM_5aOb2"
   },
   "source": [
    "**3.2** Por fim, vamos estimar o preço de um imóvel segundo nosso modelo. Para isso devemos fazer a multiplicação do vetor de atributos de um imóvel pelo vetor de pesos obtidos pela regressão linear. A formula é a seguinte: \n",
    "\n",
    "$$y_i =  \\textbf{X}_i  \\textbf{b} $$\n",
    "\n",
    "Aplique a formula acima e obtenha as estimativas dos preços dos imóveis com indices 0, 1 e 2. Salve nas variáveis **preco_0**, **preco_1** e **preco_2** respectivamente."
   ]
  },
  {
   "cell_type": "code",
   "execution_count": 22,
   "id": "IcCoqox5aOb2",
   "metadata": {
    "id": "IcCoqox5aOb2"
   },
   "outputs": [
    {
     "name": "stdout",
     "output_type": "stream",
     "text": [
      "222038.59419624973\n",
      "488951.43410401046\n",
      "193675.48463330837\n"
     ]
    }
   ],
   "source": [
    "# Insira seu código aqui\n",
    "preco_0 = X[0,:] @ vector_b\n",
    "preco_1 = X[1,:] @ vector_b\n",
    "preco_2 = X[2,:] @ vector_b\n",
    "print(preco_0)\n",
    "print(preco_1)\n",
    "print(preco_2)"
   ]
  }
 ],
 "metadata": {
  "colab": {
   "collapsed_sections": [],
   "name": "EP4.ipynb",
   "provenance": []
  },
  "kernelspec": {
   "display_name": "Python 3",
   "language": "python",
   "name": "python3"
  },
  "language_info": {
   "codemirror_mode": {
    "name": "ipython",
    "version": 3
   },
   "file_extension": ".py",
   "mimetype": "text/x-python",
   "name": "python",
   "nbconvert_exporter": "python",
   "pygments_lexer": "ipython3",
   "version": "3.8.8"
  }
 },
 "nbformat": 4,
 "nbformat_minor": 5
}
